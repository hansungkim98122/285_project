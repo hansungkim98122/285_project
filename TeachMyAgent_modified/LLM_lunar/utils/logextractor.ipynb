{
 "cells": [
  {
   "cell_type": "code",
   "execution_count": 53,
   "metadata": {},
   "outputs": [],
   "source": []
  },
  {
   "cell_type": "code",
   "execution_count": 61,
   "metadata": {},
   "outputs": [],
   "source": [
    "\n",
    "class LLMLogExtractor():\n",
    "    \n",
    "    def __init__(self, log_fp):\n",
    "        self.log_fp = log_fp\n",
    "        with open(log_fp, 'r') as log_fp:\n",
    "            log_raw = log_fp.readlines()\n",
    "            log = ''.join(log_raw)[1:-1].split('}{')\n",
    "        self.log = None\n",
    "        self.log = [LLMLogExtractor.format(log_item) for log_item in log]\n",
    "        \n",
    "    @staticmethod\n",
    "    def format(log_item):\n",
    "        log_item = '{'+log_item+'}'\n",
    "        log_item = log_item.replace('\\n','').replace(' ','')\n",
    "        log_item = log_item.replace('null','\"null\"')\n",
    "        return eval(log_item)\n",
    "\n",
    "\n",
    "    def extract_param(self)->list:\n",
    "        param_list = []\n",
    "        for log_item in self.log:\n",
    "            param_list.append(eval(log_item['choices'][0]['message']['content']))\n",
    "        return param_list\n",
    "\n",
    "\n"
   ]
  },
  {
   "cell_type": "code",
   "execution_count": 62,
   "metadata": {},
   "outputs": [],
   "source": []
  },
  {
   "cell_type": "code",
   "execution_count": 63,
   "metadata": {},
   "outputs": [
    {
     "data": {
      "text/plain": [
       "[{'gravity': -3.0, 'wind_power': 10.0, 'turbulence_power': 1.0},\n",
       " {'gravity': -5.0, 'wind_power': 15.0, 'turbulence_power': 1.5}]"
      ]
     },
     "execution_count": 63,
     "metadata": {},
     "output_type": "execute_result"
    }
   ],
   "source": [
    "llm_log_extractor.extract_param()"
   ]
  }
 ],
 "metadata": {
  "kernelspec": {
   "display_name": "cs285",
   "language": "python",
   "name": "python3"
  },
  "language_info": {
   "codemirror_mode": {
    "name": "ipython",
    "version": 3
   },
   "file_extension": ".py",
   "mimetype": "text/x-python",
   "name": "python",
   "nbconvert_exporter": "python",
   "pygments_lexer": "ipython3",
   "version": "3.10.0"
  }
 },
 "nbformat": 4,
 "nbformat_minor": 2
}
